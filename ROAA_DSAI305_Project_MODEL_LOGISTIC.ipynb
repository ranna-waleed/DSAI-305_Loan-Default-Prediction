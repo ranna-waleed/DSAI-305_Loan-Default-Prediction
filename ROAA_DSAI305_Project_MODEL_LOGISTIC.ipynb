{
  "nbformat": 4,
  "nbformat_minor": 0,
  "metadata": {
    "colab": {
      "provenance": [],
      "include_colab_link": true
    },
    "kernelspec": {
      "name": "python3",
      "display_name": "Python 3"
    },
    "language_info": {
      "name": "python"
    }
  },
  "cells": [
    {
      "cell_type": "markdown",
      "metadata": {
        "id": "view-in-github",
        "colab_type": "text"
      },
      "source": [
        "<a href=\"https://colab.research.google.com/github/ranna-waleed/DSAI-305_Loan-Default-Prediction/blob/main/ROAA_DSAI305_Project_MODEL_LOGISTIC.ipynb\" target=\"_parent\"><img src=\"https://colab.research.google.com/assets/colab-badge.svg\" alt=\"Open In Colab\"/></a>"
      ]
    },
    {
      "cell_type": "code",
      "source": [
        "# --- Imports ---\n",
        "import pandas as pd\n",
        "import numpy as np\n",
        "import matplotlib.pyplot as plt\n",
        "import scipy.stats as stats\n",
        "import statsmodels.api as sm\n",
        "from statsmodels.genmod.generalized_linear_model import GLM\n",
        "from statsmodels.genmod import families\n",
        "from statsmodels.stats.outliers_influence import variance_inflation_factor\n",
        "from sklearn.preprocessing import StandardScaler\n",
        "from sklearn.model_selection import train_test_split, GridSearchCV, TimeSeriesSplit\n",
        "from sklearn.linear_model import LogisticRegression\n",
        "from sklearn.metrics import recall_score, roc_auc_score\n",
        "from sklearn.pipeline import Pipeline\n",
        "import joblib\n",
        "import gc"
      ],
      "metadata": {
        "id": "WS8v0FsDN4ur"
      },
      "execution_count": null,
      "outputs": []
    },
    {
      "cell_type": "code",
      "source": [
        "import statsmodels.api as sm\n",
        "from statsmodels.genmod.generalized_linear_model import GLM\n",
        "from statsmodels.genmod import families\n",
        "from statsmodels.stats.outliers_influence import variance_inflation_factor\n",
        "import matplotlib.pyplot as plt\n",
        "import scipy.stats as stats\n",
        "from sklearn.preprocessing import StandardScaler"
      ],
      "metadata": {
        "id": "6_U6B9OH0yhS"
      },
      "execution_count": null,
      "outputs": []
    },
    {
      "cell_type": "markdown",
      "source": [
        "* `final_loan_data_leakproof.csv` - The main dataset with selected features\n",
        "\n",
        "* `engineered_loan_data_leakproof.pkl` - Engineered features (if needed)\n",
        "\n",
        "* `processed_loan_data.pkl` - Fully processed data (if needed)"
      ],
      "metadata": {
        "id": "9YhA81OFnNV0"
      }
    },
    {
      "cell_type": "code",
      "source": [
        "# Load the final dataset from Notebook 1\n",
        "try:\n",
        "    final_df = pd.read_csv('final_loan_data_leakproof.csv')\n",
        "    print(\"Successfully loaded final dataset\")\n",
        "    print(\"Shape:\", final_df.shape)\n",
        "except FileNotFoundError:\n",
        "    print(\"Error: Could not find 'final_loan_data_leakproof.csv'\")\n",
        "    print(\"Run the data preprocessing notebook first to generate this file\")\n",
        "    raise"
      ],
      "metadata": {
        "colab": {
          "base_uri": "https://localhost:8080/"
        },
        "id": "nJ3FSq63eBA4",
        "outputId": "6a4d117a-1e60-4050-bba5-77a3e370ee30"
      },
      "execution_count": null,
      "outputs": [
        {
          "output_type": "stream",
          "name": "stdout",
          "text": [
            "Successfully loaded final dataset\n",
            "Shape: (50000, 17)\n"
          ]
        }
      ]
    },
    {
      "cell_type": "code",
      "source": [
        "# Prepare X and y\n",
        "X_selected = final_df.drop(columns=['target', 'loan_status_Fully Paid'])\n",
        "y = final_df['target']"
      ],
      "metadata": {
        "collapsed": true,
        "id": "t3exopsNlmf5"
      },
      "execution_count": null,
      "outputs": []
    },
    {
      "cell_type": "markdown",
      "source": [
        "# 6. Logistic Regression Assumption Check\n",
        "\n",
        "We check the assumptions for logistic regression to ensure model validity."
      ],
      "metadata": {
        "id": "AbjS-6_NT2CM"
      }
    },
    {
      "cell_type": "code",
      "source": [
        "# Load our leak-proof final dataset\n",
        "final_df = pd.read_csv('final_loan_data_leakproof.csv', usecols=lambda x: x != 'Unnamed: 0')\n",
        "X_selected = final_df.drop(columns=['target' , 'loan_status_Fully Paid'])\n",
        "y = final_df['target']\n",
        "\n",
        "# Memory optimization\n",
        "X_selected = X_selected.astype(np.float32)\n",
        "del final_df\n",
        "gc.collect()"
      ],
      "metadata": {
        "colab": {
          "base_uri": "https://localhost:8080/"
        },
        "id": "vY2GBKQZ09fg",
        "outputId": "81e40882-04e5-44aa-ee33-ca0cfd06e2d5"
      },
      "execution_count": null,
      "outputs": [
        {
          "output_type": "execute_result",
          "data": {
            "text/plain": [
              "0"
            ]
          },
          "metadata": {},
          "execution_count": 5
        }
      ]
    },
    {
      "cell_type": "markdown",
      "source": [
        "### 6.1 Assumption 1: Appropriate Outcome Type (Binary)"
      ],
      "metadata": {
        "id": "xH-Ad5gfzH9H"
      }
    },
    {
      "cell_type": "code",
      "source": [
        "# 6.1 Assumption 1: Appropriate Outcome Type (Binary)\n",
        "print(\"\\n=== Assumption 1: Binary Outcome ===\")\n",
        "print(\"Unique outcomes:\", y.nunique())\n",
        "print(\"Class distribution:\\n\", y.value_counts(normalize=True))"
      ],
      "metadata": {
        "colab": {
          "base_uri": "https://localhost:8080/"
        },
        "id": "L-bWrUBXUJui",
        "outputId": "c5fec72e-68b7-443c-b3ca-8da7f764eece"
      },
      "execution_count": null,
      "outputs": [
        {
          "output_type": "stream",
          "name": "stdout",
          "text": [
            "\n",
            "=== Assumption 1: Binary Outcome ===\n",
            "Unique outcomes: 2\n",
            "Class distribution:\n",
            " target\n",
            "0    0.79768\n",
            "1    0.20232\n",
            "Name: proportion, dtype: float64\n"
          ]
        }
      ]
    },
    {
      "cell_type": "markdown",
      "source": [
        "**Observation** :\n",
        "\n",
        "* Target has exactly 2 classes (Default/Fully Paid) with 20.2% default rate\n",
        "\n",
        "\n",
        "* Implication: Suitable for logistic regression\n",
        "\n"
      ],
      "metadata": {
        "id": "g_JJqzLL9zQA"
      }
    },
    {
      "cell_type": "markdown",
      "source": [
        "### 6.2 Assumption 2: Linearity of Independent Variables and Log-Odds (Box-Tidwell Test)"
      ],
      "metadata": {
        "id": "LY9UOcQazO5o"
      }
    },
    {
      "cell_type": "code",
      "source": [
        "# 6.2 Assumption 2: Linearity (Box-Tidwell Test) - PRE-APPROVAL FEATURES ONLY\n",
        "print(\"\\n=== Assumption 2: Linearity Check ===\")\n",
        "\n",
        "# Only check pre-approval continuous features\n",
        "pre_approval_continuous = [\n",
        "    'loan_amnt', 'annual_inc', 'dti', 'revol_util',\n",
        "    'fico_score', 'credit_history_years', 'loan_to_income'\n",
        "]\n",
        "# Select top 3 most important continuous features\n",
        "continuous_vars = ['loan_amnt', 'annual_inc', 'dti']\n",
        "continuous_vars = [v for v in continuous_vars if v in X_selected.columns]\n",
        "\n",
        "if continuous_vars:\n",
        "    # Use a sample for heavy computations\n",
        "    sample_idx = np.random.choice(len(X_selected), size=min(5000, len(X_selected)), replace=False)\n",
        "    X_sample = X_selected.iloc[sample_idx][continuous_vars].copy()\n",
        "    y_sample = y.iloc[sample_idx]\n",
        "\n",
        "    for var in continuous_vars:\n",
        "        X_sample[f'{var}:Log_{var}'] = X_sample[var] * np.log(X_sample[var] + 1e-10)\n",
        "\n",
        "    try:\n",
        "        logit_results = GLM(y_sample, sm.add_constant(X_sample),\n",
        "                           family=families.Binomial()).fit(disp=0)\n",
        "        sig_interactions = [t for t in logit_results.pvalues.index\n",
        "                          if ':Log_' in t and logit_results.pvalues[t] < 0.05]\n",
        "        print(\"Significant non-linearities:\", sig_interactions or \"None found\")\n",
        "    except Exception as e:\n",
        "        print(f\"Linearity check failed: {str(e)}\")\n"
      ],
      "metadata": {
        "colab": {
          "base_uri": "https://localhost:8080/"
        },
        "id": "wm20e8WPuOiH",
        "outputId": "fe9b45da-5e2d-4eb6-972b-a8e0290d35cc"
      },
      "execution_count": null,
      "outputs": [
        {
          "output_type": "stream",
          "name": "stdout",
          "text": [
            "\n",
            "=== Assumption 2: Linearity Check ===\n",
            "Significant non-linearities: None found\n"
          ]
        }
      ]
    },
    {
      "cell_type": "markdown",
      "source": [
        "**Observation** :\n",
        "\n",
        "* no on-linearity found in the log-odds\n",
        "* suitable for logistic regression"
      ],
      "metadata": {
        "id": "xLPaFQSe-lSB"
      }
    },
    {
      "cell_type": "markdown",
      "source": [
        "### 6.3 : assumption check outlier"
      ],
      "metadata": {
        "id": "JM29Qzx_t_tl"
      }
    },
    {
      "cell_type": "code",
      "source": [
        "print(\"\\n=== Assumption 3: Outlier Check ===\")\n",
        "print(\"Features being checked for outliers:\", X_selected.columns.tolist())\n",
        "\n",
        "for col in X_selected.columns:\n",
        "    q1 = X_selected[col].quantile(0.25)\n",
        "    q3 = X_selected[col].quantile(0.75)\n",
        "    iqr = q3 - q1\n",
        "    outliers = ((X_selected[col] < (q1 - 1.5*iqr))) | ((X_selected[col] > (q3 + 1.5*iqr)))\n",
        "    print(f\"{col}: {outliers.sum()} outliers ({outliers.mean()*100:.1f}%)\")\n",
        "\n"
      ],
      "metadata": {
        "colab": {
          "base_uri": "https://localhost:8080/"
        },
        "id": "flVl5xFxuZe8",
        "outputId": "ee20ba53-fadc-4261-dae4-bf4aa09d6bde"
      },
      "execution_count": null,
      "outputs": [
        {
          "output_type": "stream",
          "name": "stdout",
          "text": [
            "\n",
            "=== Assumption 3: Outlier Check ===\n",
            "Features being checked for outliers: ['addr_state_MI', 'verification_status_Verified', 'home_ownership_RENT', 'sub_grade', 'dti_ratio', 'issue_d_year', 'dti', 'int_rate', 'grade', 'term_ 60 months', 'loan_to_income', 'home_ownership_MORTGAGE', 'debt_settlement_flag_Y', 'issue_d_month', 'credit_history_years']\n",
            "addr_state_MI: 1352 outliers (2.7%)\n",
            "verification_status_Verified: 0 outliers (0.0%)\n",
            "home_ownership_RENT: 0 outliers (0.0%)\n",
            "sub_grade: 353 outliers (0.7%)\n",
            "dti_ratio: 186 outliers (0.4%)\n",
            "issue_d_year: 705 outliers (1.4%)\n",
            "dti: 186 outliers (0.4%)\n",
            "int_rate: 925 outliers (1.8%)\n",
            "grade: 0 outliers (0.0%)\n",
            "term_ 60 months: 12082 outliers (24.2%)\n",
            "loan_to_income: 272 outliers (0.5%)\n",
            "home_ownership_MORTGAGE: 0 outliers (0.0%)\n",
            "debt_settlement_flag_Y: 1256 outliers (2.5%)\n",
            "issue_d_month: 0 outliers (0.0%)\n",
            "credit_history_years: 1595 outliers (3.2%)\n"
          ]
        }
      ]
    },
    {
      "cell_type": "code",
      "source": [
        "# These show outliers but shouldn't be modified (paper kept them as-is)\n",
        "no_action_needed = [\n",
        "    'addr_state_MI', 'verification_status_Verified',\n",
        "    'home_ownership_RENT', 'home_ownership_MORTGAGE',\n",
        "    'term_ 60 months', 'debt_settlement_flag_Y'\n",
        "]"
      ],
      "metadata": {
        "id": "WwEI0XyNlQmR"
      },
      "execution_count": null,
      "outputs": []
    },
    {
      "cell_type": "markdown",
      "source": [
        "**Observation** :\n",
        "\n",
        "* `addr_state_MI` (2.7% outliers)\n",
        "\n",
        " binary/categorical feature (Michigan indicator)\n",
        "\n",
        " No treatment needed - paper kept geographical features as-is\n",
        "\n",
        "* `sub_grade` (0.7% outliers)\n",
        "\n",
        "  ordinal data (A1,A2,...G5)\n",
        "\n",
        "  solution :Convert to numerical scale\n",
        "\n",
        "* Financial Ratios (`dti`, `dti_ratio`, `loan_to_income`)\n",
        "\n",
        "  solution : Paper handled this via log transform\n",
        "\n",
        "* `credit_history_years` paper applied Winsorize at 99th percentile\n"
      ],
      "metadata": {
        "id": "awiZcHIA-v0z"
      }
    },
    {
      "cell_type": "code",
      "source": [
        "# Apply log transform as done in paper (page 3)\n",
        "for col in ['dti', 'dti_ratio', 'loan_to_income']:\n",
        "    X_selected[f'log_{col}'] = np.log(X_selected[col] + 1)\n",
        "\n"
      ],
      "metadata": {
        "id": "xl9PtH9Nldvl"
      },
      "execution_count": null,
      "outputs": []
    },
    {
      "cell_type": "code",
      "source": [
        "# Winsorize at 99th percentile (paper's robust approach)\n",
        "upper_limit = X_selected['credit_history_years'].quantile(0.99)\n",
        "X_selected['credit_history_years'] = np.where(\n",
        "    X_selected['credit_history_years'] > upper_limit,\n",
        "    upper_limit,\n",
        "    X_selected['credit_history_years']\n",
        ")\n"
      ],
      "metadata": {
        "id": "85YcwAnBlt7J"
      },
      "execution_count": null,
      "outputs": []
    },
    {
      "cell_type": "code",
      "source": [
        "print(\"\\n=== Assumption 3: Outlier Check after modification ===\")\n",
        "print(\"Features being checked for outliers:\", X_selected.columns.tolist())\n",
        "\n",
        "for col in X_selected.columns:\n",
        "    q1 = X_selected[col].quantile(0.25)\n",
        "    q3 = X_selected[col].quantile(0.75)\n",
        "    iqr = q3 - q1\n",
        "    outliers = ((X_selected[col] < (q1 - 1.5*iqr))) | ((X_selected[col] > (q3 + 1.5*iqr)))\n",
        "    print(f\"{col}: {outliers.sum()} outliers ({outliers.mean()*100:.1f}%)\")\n",
        "\n"
      ],
      "metadata": {
        "colab": {
          "base_uri": "https://localhost:8080/"
        },
        "id": "OfoJlsl9lt5I",
        "outputId": "ba976782-7200-491e-bc09-f20420e91429"
      },
      "execution_count": null,
      "outputs": [
        {
          "output_type": "stream",
          "name": "stdout",
          "text": [
            "\n",
            "=== Assumption 3: Outlier Check after modification ===\n",
            "Features being checked for outliers: ['addr_state_MI', 'verification_status_Verified', 'home_ownership_RENT', 'sub_grade', 'dti_ratio', 'issue_d_year', 'dti', 'int_rate', 'grade', 'term_ 60 months', 'loan_to_income', 'home_ownership_MORTGAGE', 'debt_settlement_flag_Y', 'issue_d_month', 'credit_history_years', 'log_dti', 'log_dti_ratio', 'log_loan_to_income']\n",
            "addr_state_MI: 1352 outliers (2.7%)\n",
            "verification_status_Verified: 0 outliers (0.0%)\n",
            "home_ownership_RENT: 0 outliers (0.0%)\n",
            "sub_grade: 353 outliers (0.7%)\n",
            "dti_ratio: 186 outliers (0.4%)\n",
            "issue_d_year: 705 outliers (1.4%)\n",
            "dti: 186 outliers (0.4%)\n",
            "int_rate: 925 outliers (1.8%)\n",
            "grade: 0 outliers (0.0%)\n",
            "term_ 60 months: 12082 outliers (24.2%)\n",
            "loan_to_income: 272 outliers (0.5%)\n",
            "home_ownership_MORTGAGE: 0 outliers (0.0%)\n",
            "debt_settlement_flag_Y: 1256 outliers (2.5%)\n",
            "issue_d_month: 0 outliers (0.0%)\n",
            "credit_history_years: 1595 outliers (3.2%)\n",
            "log_dti: 1496 outliers (3.0%)\n",
            "log_dti_ratio: 149 outliers (0.3%)\n",
            "log_loan_to_income: 209 outliers (0.4%)\n"
          ]
        }
      ]
    },
    {
      "cell_type": "code",
      "source": [
        "X_selected = X_selected.drop(columns=['dti', 'dti_ratio', 'loan_to_income'])"
      ],
      "metadata": {
        "collapsed": true,
        "id": "4iCq1nqZlt3G"
      },
      "execution_count": null,
      "outputs": []
    },
    {
      "cell_type": "code",
      "source": [
        "X_selected = X_selected.drop(columns=['grade'])"
      ],
      "metadata": {
        "id": "5RArXiiYlt0U"
      },
      "execution_count": null,
      "outputs": []
    },
    {
      "cell_type": "code",
      "source": [
        "X_selected = X_selected.drop(columns=['int_rate'])"
      ],
      "metadata": {
        "id": "gI47fx5bq1oK"
      },
      "execution_count": null,
      "outputs": []
    },
    {
      "cell_type": "markdown",
      "source": [
        "### 6.4 Assumption 4: Absence of Multicollinearity (VIF)"
      ],
      "metadata": {
        "id": "iBo-lrjF0RWI"
      }
    },
    {
      "cell_type": "code",
      "source": [
        "print(\"\\n=== Assumption 4: Multicollinearity Check ===\")\n",
        "\n",
        "# First identify ACTUAL numeric features in your data\n",
        "numeric_features = X_selected.select_dtypes(include=['number']).columns.tolist()\n",
        "\n",
        "if len(numeric_features) > 1:\n",
        "    print(f\"Calculating VIF for: {numeric_features}\")\n",
        "\n",
        "    vif_data = pd.DataFrame()\n",
        "    vif_data[\"feature\"] = numeric_features\n",
        "    vif_data[\"VIF\"] = [variance_inflation_factor(X_selected[numeric_features].values, i)\n",
        "                      for i in range(len(numeric_features))]\n",
        "\n",
        "    # Filter and display results\n",
        "    high_vif = vif_data[vif_data[\"VIF\"] > 5]\n",
        "    if not high_vif.empty:\n",
        "        print(\"\\nPotentially problematic features (VIF > 5):\")\n",
        "        print(high_vif.sort_values(\"VIF\", ascending=False))\n",
        "\n",
        "    print(\"\\nComplete VIF Results:\")\n",
        "    print(vif_data.sort_values(\"VIF\", ascending=False))\n",
        "else:\n",
        "    print(\"Cannot compute VIF - need at least 2 numeric features\")"
      ],
      "metadata": {
        "id": "rl6fNNTtuhJR",
        "colab": {
          "base_uri": "https://localhost:8080/"
        },
        "outputId": "eb5dc8dc-86df-4683-9361-72504f92ecec"
      },
      "execution_count": null,
      "outputs": [
        {
          "output_type": "stream",
          "name": "stdout",
          "text": [
            "\n",
            "=== Assumption 4: Multicollinearity Check ===\n",
            "Calculating VIF for: ['addr_state_MI', 'verification_status_Verified', 'home_ownership_RENT', 'sub_grade', 'issue_d_year', 'term_ 60 months', 'home_ownership_MORTGAGE', 'debt_settlement_flag_Y', 'issue_d_month', 'credit_history_years', 'log_dti', 'log_dti_ratio', 'log_loan_to_income']\n",
            "\n",
            "Potentially problematic features (VIF > 5):\n",
            "                    feature         VIF\n",
            "10                  log_dti  273.921382\n",
            "4              issue_d_year  121.853165\n",
            "11            log_dti_ratio   62.489056\n",
            "3                 sub_grade    8.512768\n",
            "9      credit_history_years    6.305121\n",
            "12       log_loan_to_income    6.235721\n",
            "6   home_ownership_MORTGAGE    5.570318\n",
            "\n",
            "Complete VIF Results:\n",
            "                         feature         VIF\n",
            "10                       log_dti  273.921382\n",
            "4                   issue_d_year  121.853165\n",
            "11                 log_dti_ratio   62.489056\n",
            "3                      sub_grade    8.512768\n",
            "9           credit_history_years    6.305121\n",
            "12            log_loan_to_income    6.235721\n",
            "6        home_ownership_MORTGAGE    5.570318\n",
            "2            home_ownership_RENT    4.682817\n",
            "8                  issue_d_month    4.560936\n",
            "5                term_ 60 months    1.802843\n",
            "1   verification_status_Verified    1.564039\n",
            "7         debt_settlement_flag_Y    1.033977\n",
            "0                  addr_state_MI    1.030721\n"
          ]
        }
      ]
    },
    {
      "cell_type": "markdown",
      "source": [
        "**Observation** :\n",
        "\n",
        "\n",
        "*   sub_grade (VIF=107.3) - Strongly related to other risk factors\n",
        "\n",
        "* issue_d_year (VIF=21.6) - Temporal correlation\n",
        "\n",
        "* credit_history_years (VIF=5.8) - Borderline high\n",
        "\n",
        "Paper's approach for time columns (page 3): Keep but monitor"
      ],
      "metadata": {
        "id": "G5MUCb6z0Yzy"
      }
    },
    {
      "cell_type": "code",
      "source": [
        "# Paper used sub_grade but with regularization\n",
        "#  Apply paper's scaling approach\n",
        "from sklearn.preprocessing import RobustScaler\n",
        "scaler = RobustScaler()\n",
        "X_selected['scaled_sub_grade'] = scaler.fit_transform(X_selected[['sub_grade']])\n",
        "X_selected = X_selected.drop(columns=['sub_grade'])"
      ],
      "metadata": {
        "id": "M_58ov0qtFu-"
      },
      "execution_count": null,
      "outputs": []
    },
    {
      "cell_type": "markdown",
      "source": [
        "### 6.5 Assumption 5: Independence of Observations"
      ],
      "metadata": {
        "id": "1bwfCKKu0u9S"
      }
    },
    {
      "cell_type": "code",
      "source": [
        "# 6.5 Assumption 5: Independence of Residuals\n",
        "print(\"\\n=== Assumption 5: Independence Check ===\")\n",
        "if len(y) > 1000:\n",
        "    # Use autocorrelation on residuals\n",
        "    sample_idx = np.random.choice(len(X_selected), size=1000, replace=False)\n",
        "    X_small = sm.add_constant(X_selected.iloc[sample_idx])\n",
        "    y_small = y.iloc[sample_idx]\n",
        "\n",
        "    try:\n",
        "        model = GLM(y_small, X_small, family=families.Binomial())\n",
        "        results = model.fit(disp=0)\n",
        "        dw = np.sum(np.diff(results.resid_pearson)**2) / np.sum(results.resid_pearson**2)\n",
        "        print(f\"Durbin-Watson: {dw:.2f} (2 = no autocorrelation)\")\n",
        "    except:\n",
        "        print(\"Could not compute Durbin-Watson\")\n"
      ],
      "metadata": {
        "id": "5NltoZzvULHc",
        "colab": {
          "base_uri": "https://localhost:8080/"
        },
        "outputId": "7511469b-8530-4cec-9e57-77cbf16358d6"
      },
      "execution_count": null,
      "outputs": [
        {
          "output_type": "stream",
          "name": "stdout",
          "text": [
            "\n",
            "=== Assumption 5: Independence Check ===\n",
            "Durbin-Watson: 1.92 (2 = no autocorrelation)\n"
          ]
        }
      ]
    },
    {
      "cell_type": "markdown",
      "source": [
        "**Observation** :\n",
        "\n",
        "- no autocorrelation , suitable for logistic regression"
      ],
      "metadata": {
        "id": "cgMloHdqAIdu"
      }
    },
    {
      "cell_type": "markdown",
      "source": [
        "### 6.6 Assumption 6: Sufficiently Large Sample Size"
      ],
      "metadata": {
        "id": "Q74xBteI1B3B"
      }
    },
    {
      "cell_type": "code",
      "source": [
        "# 6.6 Assumption 6: Sample Size Adequacy\n",
        "print(\"\\n=== Assumption 6: Sample Size ===\")\n",
        "n_events = y.sum()\n",
        "n_features = len(X_selected.columns)\n",
        "print(f\"Events per variable: {n_events/n_features:.1f} (Recommended >10)\")"
      ],
      "metadata": {
        "id": "PDe0KDitUdEJ",
        "colab": {
          "base_uri": "https://localhost:8080/"
        },
        "outputId": "cccf2fa9-65db-4238-e0ef-e25c6629923d"
      },
      "execution_count": null,
      "outputs": [
        {
          "output_type": "stream",
          "name": "stdout",
          "text": [
            "\n",
            "=== Assumption 6: Sample Size ===\n",
            "Events per variable: 778.2 (Recommended >10)\n"
          ]
        }
      ]
    },
    {
      "cell_type": "code",
      "source": [
        "# Clean up\n",
        "plt.close('all')\n",
        "gc.collect()"
      ],
      "metadata": {
        "id": "8RNKdR_0w6r2",
        "colab": {
          "base_uri": "https://localhost:8080/"
        },
        "outputId": "8db3374d-e077-4b1b-b9f2-c972c56f429f"
      },
      "execution_count": null,
      "outputs": [
        {
          "output_type": "execute_result",
          "data": {
            "text/plain": [
              "44"
            ]
          },
          "metadata": {},
          "execution_count": 20
        }
      ]
    },
    {
      "cell_type": "markdown",
      "source": [
        "# 7-  Models building"
      ],
      "metadata": {
        "id": "689K71rK2cXJ"
      }
    },
    {
      "cell_type": "markdown",
      "source": [
        "### Model 1: Logistic Regression"
      ],
      "metadata": {
        "id": "RClS47p9sZjO"
      }
    },
    {
      "cell_type": "markdown",
      "source": [
        "Paper 1 -->  Peer-to-peer loan acceptance and default prediction with artificial intelligence\n",
        "\n",
        "The paper used a two-phase model (acceptance then default prediction), but here we focus only on the default prediction phase since that's our project's idea and main focus.\n",
        "\n",
        "the logistic regression was applied with automated grid search."
      ],
      "metadata": {
        "id": "tjG9RqDUtOZV"
      }
    },
    {
      "cell_type": "code",
      "source": [
        "from sklearn.linear_model import LogisticRegression\n",
        "from sklearn.model_selection import train_test_split\n",
        "from sklearn.metrics import classification_report, confusion_matrix, roc_auc_score, roc_curve\n",
        "import seaborn as sns"
      ],
      "metadata": {
        "id": "L2QEi5WZynVt"
      },
      "execution_count": null,
      "outputs": []
    },
    {
      "cell_type": "code",
      "source": [
        "final_df = pd.read_csv('final_loan_data_leakproof.csv')"
      ],
      "metadata": {
        "id": "9-eP-Oc2K_FK"
      },
      "execution_count": null,
      "outputs": []
    },
    {
      "cell_type": "code",
      "source": [
        "# Prepare X and y\n",
        "X_selected = final_df.drop(columns=['target', 'loan_status_Fully Paid'])\n",
        "y = final_df['target']"
      ],
      "metadata": {
        "id": "898PvDLFPf3I"
      },
      "execution_count": null,
      "outputs": []
    },
    {
      "cell_type": "code",
      "execution_count": null,
      "metadata": {
        "colab": {
          "base_uri": "https://localhost:8080/"
        },
        "id": "0N95NXNfcXfs",
        "outputId": "27af29e7-e96d-4b14-d199-83e39655c41b"
      },
      "outputs": [
        {
          "output_type": "stream",
          "name": "stdout",
          "text": [
            "Fitting 3 folds for each of 22 candidates, totalling 66 fits\n",
            "\n",
            "Logistic Regression Results:\n",
            "Recall (Default): 71.7%\n",
            "Recall (Fully Paid): 63.7%\n",
            "AUC-ROC: 74.5%\n",
            "Model saved. Analysis complete.\n"
          ]
        }
      ],
      "source": [
        "# Time-based split\n",
        "df = final_df.sort_values('issue_d_year')\n",
        "split_idx = int(0.75 * len(df))\n",
        "X_train, X_test = X_selected.iloc[:split_idx], X_selected.iloc[split_idx:]\n",
        "y_train, y_test = y.iloc[:split_idx], y.iloc[split_idx:]\n",
        "\n",
        "# Create pipeline\n",
        "pipeline = Pipeline([\n",
        "    ('scaler', StandardScaler()),\n",
        "    ('logreg', LogisticRegression(random_state=42, max_iter=1000, solver='liblinear', class_weight='balanced'))\n",
        "])\n",
        "\n",
        "# Parameter grid\n",
        "param_grid = {\n",
        "    'logreg__C': np.logspace(-5, 5, 11),\n",
        "    'logreg__penalty': ['l1', 'l2'],\n",
        "}\n",
        "\n",
        "# Grid search\n",
        "tscv = TimeSeriesSplit(n_splits=3)\n",
        "grid_search = GridSearchCV(pipeline, param_grid, cv=tscv, scoring='recall', n_jobs=-1, verbose=1)\n",
        "grid_search.fit(X_train, y_train)\n",
        "\n",
        "# Evaluate best model\n",
        "best_model = grid_search.best_estimator_\n",
        "y_pred = best_model.predict(X_test)\n",
        "y_pred_proba = best_model.predict_proba(X_test)[:, 1]\n",
        "\n",
        "# Calculate metrics\n",
        "test_recall_default = recall_score(y_test, y_pred, pos_label=1)\n",
        "test_recall_paid = recall_score(y_test, y_pred, pos_label=0)\n",
        "test_auc = roc_auc_score(y_test, y_pred_proba)\n",
        "\n",
        "# Print results\n",
        "print(\"\\nLogistic Regression Results:\")\n",
        "print(f\"Recall (Default): {test_recall_default:.1%}\")\n",
        "print(f\"Recall (Fully Paid): {test_recall_paid:.1%}\")\n",
        "print(f\"AUC-ROC: {test_auc:.1%}\")\n",
        "\n",
        "# Save model\n",
        "import joblib\n",
        "joblib.dump(best_model, 'logistic_regression_model.pkl')\n",
        "print(\"Model saved. Analysis complete.\")"
      ]
    },
    {
      "cell_type": "markdown",
      "source": [
        "our results:\n",
        "* Default Recall: 71.7%\n",
        "* Fully Paid Recall: 63.7%\n",
        "* AUC-ROC: 74.5%\n",
        "\n",
        "paper's results:\n",
        "* Logistic Regression Recall: ~63-65%\n",
        "* AUC-ROC: 69% (LR)"
      ],
      "metadata": {
        "id": "Pi49ej1Wwlne"
      }
    },
    {
      "cell_type": "markdown",
      "source": [
        "# explaining"
      ],
      "metadata": {
        "id": "AJgZRczJPDyh"
      }
    },
    {
      "cell_type": "code",
      "source": [
        "# Classification report\n",
        "print(\"Detailed Classification Report:\")\n",
        "print(classification_report(y_test, y_pred, target_names=['Fully Paid', 'Default']))"
      ],
      "metadata": {
        "id": "DoIm1NmtPskR",
        "colab": {
          "base_uri": "https://localhost:8080/"
        },
        "outputId": "f21d4755-47c2-4447-a76f-7ebd71864f10"
      },
      "execution_count": null,
      "outputs": [
        {
          "output_type": "stream",
          "name": "stdout",
          "text": [
            "Detailed Classification Report:\n",
            "              precision    recall  f1-score   support\n",
            "\n",
            "  Fully Paid       0.90      0.64      0.75      9966\n",
            "     Default       0.33      0.72      0.46      2534\n",
            "\n",
            "    accuracy                           0.65     12500\n",
            "   macro avg       0.62      0.68      0.60     12500\n",
            "weighted avg       0.78      0.65      0.69     12500\n",
            "\n"
          ]
        }
      ]
    },
    {
      "cell_type": "code",
      "source": [
        "# Confusion matrix\n",
        "cm = confusion_matrix(y_test, y_pred)\n",
        "plt.figure()\n",
        "sns.heatmap(cm, annot=True, fmt='d', cmap='Blues',\n",
        "            xticklabels=['Fully Paid', 'Default'],\n",
        "            yticklabels=['Fully Paid', 'Default'])\n",
        "plt.title('Confusion Matrix')\n",
        "plt.ylabel('True Label')\n",
        "plt.xlabel('Predicted Label')\n",
        "plt.tight_layout()\n",
        "plt.savefig('confusion_matrix.png')\n",
        "plt.show()"
      ],
      "metadata": {
        "id": "nAfu60WmPuZL",
        "colab": {
          "base_uri": "https://localhost:8080/",
          "height": 487
        },
        "outputId": "7fe54554-7ee8-498f-d15a-1277ba56ff31"
      },
      "execution_count": null,
      "outputs": [
        {
          "output_type": "display_data",
          "data": {
            "text/plain": [
              "<Figure size 640x480 with 2 Axes>"
            ],
            "image/png": "[encoded data removed]"
          },
          "metadata": {}
        }
      ]
    },
    {
      "cell_type": "markdown",
      "source": [
        "* True Defaults: 1817 correctly identified (72% recall)\n",
        "\n",
        "* False Positives: 3613 Fully Paid loans misclassified as Default\n",
        "\n",
        "* Precision-Recall Tradeoff:\n",
        "\n",
        "  High default recall (71.7%) at cost of precision (33%)\n",
        "\n",
        "Matches paper's focus on recall for defaults (page 5: \"prioritize high recall on the default class\")"
      ],
      "metadata": {
        "id": "L6fxt6Tty2uO"
      }
    },
    {
      "cell_type": "code",
      "source": [
        "import shap"
      ],
      "metadata": {
        "id": "gUr9TdpSbRkk"
      },
      "execution_count": null,
      "outputs": []
    },
    {
      "cell_type": "code",
      "source": [
        "# Manually scale the data using the pipeline's scaler\n",
        "X_train_scaled = best_model.named_steps['scaler'].transform(X_train)\n",
        "\n",
        "# Extract logistic regression model\n",
        "logreg_model = best_model.named_steps['logreg']\n",
        "\n",
        "# Create the shap explainer for the logistic regression model\n",
        "explainer = shap.Explainer(logreg_model, X_train_scaled)\n",
        "\n",
        "# Compute SHAP values\n",
        "shap_values = explainer(X_train_scaled)\n",
        "\n",
        "# Plot the summary\n",
        "shap.summary_plot(shap_values, X_train, feature_names=X_train.columns)\n"
      ],
      "metadata": {
        "id": "D1-SGBNsQ9tz",
        "colab": {
          "base_uri": "https://localhost:8080/",
          "height": 757
        },
        "outputId": "fa53e321-b960-49c4-df78-6d48ae9ed455"
      },
      "execution_count": null,
      "outputs": [
        {
          "output_type": "display_data",
          "data": {
            "text/plain": [
              "<Figure size 800x750 with 2 Axes>"
            ],
            "image/png": "[encoded data removed]"
          },
          "metadata": {}
        }
      ]
    },
    {
      "cell_type": "markdown",
      "source": [
        "## Interpretation:\n",
        "\n",
        "Top Risk Factors (Increase Default Chance):\n",
        "\n",
        "* Right-side values (red) = higher risk\n",
        "  - grade\n",
        "  - sub_grade\n",
        "  - int_rate\n",
        "  - debt_settelement\n",
        "  - loan_to_income\n",
        "  - dti\n",
        "\n",
        "\n",
        "\n",
        "\n"
      ],
      "metadata": {
        "id": "i956gJzCD91b"
      }
    },
    {
      "cell_type": "markdown",
      "source": [
        "1. Sub_grade , grade\n",
        "\n",
        "\t• Most influential features .\n",
        "\n",
        "\t• Higher sub_grades (red) — push predictions toward default.\n",
        "\n",
        "\t• Lower sub_grades (blue) — decrease the likelihood of default\n",
        "\n",
        "2. int_rate\n",
        "\n",
        "\t• High interest rates (red) ->  higher risk of default.\n",
        "\n",
        "\t• Low rates (blue) -> reducing predicted default risk.\n",
        "\n",
        "\n",
        "3. term_60 months\n",
        "\n",
        "\t• 60-month terms (red) → increase predicted default.\n",
        "\n",
        "\n",
        "4. debt_settlement_flag_Y\n",
        "\n",
        "\t• If debt settlement =“Yes” (red), there’s a strong push toward predicting default.\n",
        "\n",
        "\t• This feature has a sparse but extreme impact when present.\n",
        "\n",
        "\n",
        "5. loan_to_income, dti_ratio, dti\n",
        "\n",
        "\t• These three are related to borrower affordability.\n",
        "\n",
        "  • Higher values (red) → higher predicted default,\n"
      ],
      "metadata": {
        "id": "htYJYVUDYesB"
      }
    },
    {
      "cell_type": "code",
      "source": [
        "# 5. Feature Importance Analysis\n",
        "print(\"\\n\" + \"=\"*80)\n",
        "print(\"FEATURE IMPORTANCE ANALYSIS\")\n",
        "print(\"=\"*80)\n",
        "\n",
        "\n",
        "# Get coefficients\n",
        "coef = best_model.named_steps['logreg'].coef_[0]\n",
        "features = X_selected.columns\n",
        "feature_importance = pd.DataFrame({\n",
        "    'Feature': features,\n",
        "    'Coefficient': coef,\n",
        "    'Absolute_Coefficient': np.abs(coef)\n",
        "}).sort_values('Absolute_Coefficient', ascending=False)\n",
        "\n",
        "# Print top 10 features\n",
        "print(\"\\nTop 10 Most Important Features:\")\n",
        "print(feature_importance.head(10).to_string(index=False))\n",
        "\n",
        "# Plot feature importance\n",
        "plt.figure(figsize=(12, 8))\n",
        "sns.barplot(\n",
        "    x='Absolute_Coefficient',\n",
        "    y='Feature',\n",
        "    data=feature_importance.head(20),\n",
        "    palette='viridis'\n",
        ")\n",
        "plt.title('Top 20 Most Important Features (Absolute Coefficient Values)')\n",
        "plt.xlabel('Absolute Coefficient Value')\n",
        "plt.ylabel('Feature')\n",
        "plt.tight_layout()\n",
        "plt.savefig('feature_importance.png')\n",
        "plt.show()"
      ],
      "metadata": {
        "id": "RoVev_NeP1Mn",
        "colab": {
          "base_uri": "https://localhost:8080/",
          "height": 1000
        },
        "outputId": "998c918f-842f-489d-a799-b557273b05e2"
      },
      "execution_count": null,
      "outputs": [
        {
          "output_type": "stream",
          "name": "stdout",
          "text": [
            "\n",
            "================================================================================\n",
            "FEATURE IMPORTANCE ANALYSIS\n",
            "================================================================================\n",
            "\n",
            "Top 10 Most Important Features:\n",
            "                Feature  Coefficient  Absolute_Coefficient\n",
            " debt_settlement_flag_Y     0.058577              0.058577\n",
            "              sub_grade     0.044358              0.044358\n",
            "                  grade     0.043366              0.043366\n",
            "               int_rate     0.043142              0.043142\n",
            "        term_ 60 months     0.030260              0.030260\n",
            "         loan_to_income     0.024355              0.024355\n",
            "              dti_ratio     0.018111              0.018111\n",
            "                    dti     0.018111              0.018111\n",
            "           issue_d_year     0.010440              0.010440\n",
            "home_ownership_MORTGAGE    -0.010271              0.010271\n"
          ]
        },
        {
          "output_type": "stream",
          "name": "stderr",
          "text": [
            "<ipython-input-29-d2b97417cdc2>:22: FutureWarning: \n",
            "\n",
            "Passing `palette` without assigning `hue` is deprecated and will be removed in v0.14.0. Assign the `y` variable to `hue` and set `legend=False` for the same effect.\n",
            "\n",
            "  sns.barplot(\n"
          ]
        },
        {
          "output_type": "display_data",
          "data": {
            "text/plain": [
              "<Figure size 1200x800 with 1 Axes>"
            ],
            "image/png": "[encoded data removed]"
          },
          "metadata": {}
        }
      ]
    }
  ]
}